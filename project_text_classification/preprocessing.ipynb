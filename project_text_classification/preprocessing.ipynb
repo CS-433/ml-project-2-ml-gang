{
 "cells": [
  {
   "cell_type": "code",
   "execution_count": 1,
   "id": "63601408",
   "metadata": {},
   "outputs": [],
   "source": [
    "import pandas as pd\n",
    "import numpy as np \n",
    "import re\n",
    "from nltk.tokenize import word_tokenize\n",
    "from nltk.corpus import stopwords\n",
    "from nltk.stem import PorterStemmer\n",
    "from nltk.stem import WordNetLemmatizer\n",
    "from sklearn.linear_model import LogisticRegression\n",
    "import string\n",
    "from nltk.tokenize import word_tokenize\n",
    "from nltk.corpus import stopwords\n",
    "from nltk.stem import PorterStemmer"
   ]
  },
  {
   "cell_type": "code",
   "execution_count": 2,
   "id": "66d373f2",
   "metadata": {},
   "outputs": [
    {
     "name": "stderr",
     "output_type": "stream",
     "text": [
      "[nltk_data] Downloading package wordnet to\n",
      "[nltk_data]     C:\\Users\\maity\\AppData\\Roaming\\nltk_data...\n",
      "[nltk_data]   Package wordnet is already up-to-date!\n"
     ]
    },
    {
     "data": {
      "text/plain": [
       "True"
      ]
     },
     "execution_count": 2,
     "metadata": {},
     "output_type": "execute_result"
    }
   ],
   "source": [
    "import nltk\n",
    "nltk.download('wordnet')"
   ]
  },
  {
   "cell_type": "code",
   "execution_count": 18,
   "id": "7f325732",
   "metadata": {},
   "outputs": [
    {
     "name": "stderr",
     "output_type": "stream",
     "text": [
      "[nltk_data] Downloading package omw-1.4 to\n",
      "[nltk_data]     C:\\Users\\maity\\AppData\\Roaming\\nltk_data...\n"
     ]
    },
    {
     "data": {
      "text/plain": [
       "True"
      ]
     },
     "execution_count": 18,
     "metadata": {},
     "output_type": "execute_result"
    }
   ],
   "source": [
    "nltk.download('omw-1.4')"
   ]
  },
  {
   "cell_type": "markdown",
   "id": "fcab2f00",
   "metadata": {},
   "source": [
    "## Load the dataset as pandas"
   ]
  },
  {
   "cell_type": "code",
   "execution_count": 19,
   "id": "d4beaf82",
   "metadata": {},
   "outputs": [
    {
     "name": "stdout",
     "output_type": "stream",
     "text": [
      "(97902, 1)\n",
      "(99068, 1)\n"
     ]
    }
   ],
   "source": [
    "df_train_pos = pd.read_csv(\"twitter-datasets/train_pos.txt\",sep=\"\\t\",names=['tweets'])\n",
    "df_train_neg = pd.read_csv(\"twitter-datasets/train_neg.txt\",sep=\"\\t\",names=['tweets'])\n",
    "print(df_train_pos.shape)\n",
    "print(df_train_neg.shape)"
   ]
  },
  {
   "cell_type": "code",
   "execution_count": 20,
   "id": "b8b8e776",
   "metadata": {},
   "outputs": [
    {
     "data": {
      "text/html": [
       "<div>\n",
       "<style scoped>\n",
       "    .dataframe tbody tr th:only-of-type {\n",
       "        vertical-align: middle;\n",
       "    }\n",
       "\n",
       "    .dataframe tbody tr th {\n",
       "        vertical-align: top;\n",
       "    }\n",
       "\n",
       "    .dataframe thead th {\n",
       "        text-align: right;\n",
       "    }\n",
       "</style>\n",
       "<table border=\"1\" class=\"dataframe\">\n",
       "  <thead>\n",
       "    <tr style=\"text-align: right;\">\n",
       "      <th></th>\n",
       "      <th>tweets</th>\n",
       "    </tr>\n",
       "  </thead>\n",
       "  <tbody>\n",
       "    <tr>\n",
       "      <th>0</th>\n",
       "      <td>&lt;user&gt; i dunno justin read my mention or not ....</td>\n",
       "    </tr>\n",
       "    <tr>\n",
       "      <th>1</th>\n",
       "      <td>because your logic is so dumb , i won't even c...</td>\n",
       "    </tr>\n",
       "    <tr>\n",
       "      <th>2</th>\n",
       "      <td>&lt;user&gt; just put casper in a box !  looved the...</td>\n",
       "    </tr>\n",
       "    <tr>\n",
       "      <th>3</th>\n",
       "      <td>&lt;user&gt; &lt;user&gt; thanks sir &gt; &gt; don't trip lil ma...</td>\n",
       "    </tr>\n",
       "    <tr>\n",
       "      <th>4</th>\n",
       "      <td>visiting my brother tmr is the bestest birthda...</td>\n",
       "    </tr>\n",
       "  </tbody>\n",
       "</table>\n",
       "</div>"
      ],
      "text/plain": [
       "                                              tweets\n",
       "0  <user> i dunno justin read my mention or not ....\n",
       "1  because your logic is so dumb , i won't even c...\n",
       "2   <user> just put casper in a box !  looved the...\n",
       "3  <user> <user> thanks sir > > don't trip lil ma...\n",
       "4  visiting my brother tmr is the bestest birthda..."
      ]
     },
     "execution_count": 20,
     "metadata": {},
     "output_type": "execute_result"
    }
   ],
   "source": [
    "df_train_pos.head()"
   ]
  },
  {
   "cell_type": "markdown",
   "id": "2c7af45b",
   "metadata": {},
   "source": [
    "## Remove tags and urls"
   ]
  },
  {
   "cell_type": "code",
   "execution_count": 21,
   "id": "b6627808",
   "metadata": {},
   "outputs": [],
   "source": [
    "def remove_tags(df):\n",
    "    df_cleaned = df.copy()\n",
    "    df_cleaned['tweets'] = df_cleaned['tweets'].apply(lambda tweet: re.sub(r'<.*?>', '', tweet).strip())\n",
    "    return df_cleaned"
   ]
  },
  {
   "cell_type": "code",
   "execution_count": 22,
   "id": "ef3c9818",
   "metadata": {},
   "outputs": [
    {
     "data": {
      "text/html": [
       "<div>\n",
       "<style scoped>\n",
       "    .dataframe tbody tr th:only-of-type {\n",
       "        vertical-align: middle;\n",
       "    }\n",
       "\n",
       "    .dataframe tbody tr th {\n",
       "        vertical-align: top;\n",
       "    }\n",
       "\n",
       "    .dataframe thead th {\n",
       "        text-align: right;\n",
       "    }\n",
       "</style>\n",
       "<table border=\"1\" class=\"dataframe\">\n",
       "  <thead>\n",
       "    <tr style=\"text-align: right;\">\n",
       "      <th></th>\n",
       "      <th>tweets</th>\n",
       "    </tr>\n",
       "  </thead>\n",
       "  <tbody>\n",
       "    <tr>\n",
       "      <th>0</th>\n",
       "      <td>i dunno justin read my mention or not . only j...</td>\n",
       "    </tr>\n",
       "    <tr>\n",
       "      <th>1</th>\n",
       "      <td>because your logic is so dumb , i won't even c...</td>\n",
       "    </tr>\n",
       "    <tr>\n",
       "      <th>2</th>\n",
       "      <td>just put casper in a box !  looved the battle ...</td>\n",
       "    </tr>\n",
       "    <tr>\n",
       "      <th>3</th>\n",
       "      <td>thanks sir &gt; &gt; don't trip lil mama ... just ke...</td>\n",
       "    </tr>\n",
       "    <tr>\n",
       "      <th>4</th>\n",
       "      <td>visiting my brother tmr is the bestest birthda...</td>\n",
       "    </tr>\n",
       "    <tr>\n",
       "      <th>...</th>\n",
       "      <td>...</td>\n",
       "    </tr>\n",
       "    <tr>\n",
       "      <th>97897</th>\n",
       "      <td>hey gina what's up ?</td>\n",
       "    </tr>\n",
       "    <tr>\n",
       "      <th>97898</th>\n",
       "      <td>sas 9.1 . 3 and 9.2 , east 5 , s-plus 8 , stat...</td>\n",
       "    </tr>\n",
       "    <tr>\n",
       "      <th>97899</th>\n",
       "      <td>um gord ... i just read your profile . i'm not...</td>\n",
       "    </tr>\n",
       "    <tr>\n",
       "      <th>97900</th>\n",
       "      <td>i'm so excited for tomorrow ! look out for two...</td>\n",
       "    </tr>\n",
       "    <tr>\n",
       "      <th>97901</th>\n",
       "      <td>i always wondered what the job application is ...</td>\n",
       "    </tr>\n",
       "  </tbody>\n",
       "</table>\n",
       "<p>97902 rows × 1 columns</p>\n",
       "</div>"
      ],
      "text/plain": [
       "                                                  tweets\n",
       "0      i dunno justin read my mention or not . only j...\n",
       "1      because your logic is so dumb , i won't even c...\n",
       "2      just put casper in a box !  looved the battle ...\n",
       "3      thanks sir > > don't trip lil mama ... just ke...\n",
       "4      visiting my brother tmr is the bestest birthda...\n",
       "...                                                  ...\n",
       "97897                               hey gina what's up ?\n",
       "97898  sas 9.1 . 3 and 9.2 , east 5 , s-plus 8 , stat...\n",
       "97899  um gord ... i just read your profile . i'm not...\n",
       "97900  i'm so excited for tomorrow ! look out for two...\n",
       "97901  i always wondered what the job application is ...\n",
       "\n",
       "[97902 rows x 1 columns]"
      ]
     },
     "execution_count": 22,
     "metadata": {},
     "output_type": "execute_result"
    }
   ],
   "source": [
    "remove_tags(df_train_pos)"
   ]
  },
  {
   "cell_type": "code",
   "execution_count": 26,
   "id": "41e4f7a9",
   "metadata": {},
   "outputs": [
    {
     "name": "stdout",
     "output_type": "stream",
     "text": [
      "['dunno', 'justin', 'read', 'mention', '.', 'justin', 'god', 'knows', ',', 'hope', 'follow']\n",
      "['dunno', 'justin', 'read', 'mention', '.', 'justin', 'god', 'know', ',', 'hope', 'follow']\n",
      "['dunno', 'justin', 'read', 'mention', '.', 'justin', 'god', 'know', ',', 'hope', 'follow']\n"
     ]
    }
   ],
   "source": [
    "# Example to show the use of strip()\n",
    "s = \"<user> i dunno justin read my mention or not . only justin and god knows about that , but i hope you will follow me \"\n",
    "# Add the strip() method to remove unecessary spaces in the tweet after removing tags and urls\n",
    "tokens = word_tokenize(re.sub(r'<.*?>', '', s).strip())\n",
    "stop_words = stopwords.words('english')\n",
    "l = [token for token in tokens if token.lower() not in stop_words]\n",
    "print(l)\n",
    "ps = PorterStemmer()\n",
    "l_after_stem = [ps.stem(token) for token in l]\n",
    "print(l_after_stem)\n",
    "wordnet_lemmatizer = WordNetLemmatizer()\n",
    "l_after_lem = [wordnet_lemmatizer.lemmatize(token) for token in l]\n",
    "print(l_after_lem)"
   ]
  },
  {
   "cell_type": "markdown",
   "id": "ad73525b",
   "metadata": {},
   "source": [
    "## Removing stop words + stemming"
   ]
  },
  {
   "cell_type": "code",
   "execution_count": 24,
   "id": "e7f58500",
   "metadata": {},
   "outputs": [],
   "source": [
    "def tokenize_and_preprocess(df, stop_words = False, stemming = False, lemmatization = False):\n",
    "    df_cleaned = df.copy()\n",
    "    df_cleaned['tokens'] = df_cleaned['tweets'].apply(lambda tweet: word_tokenize(tweet))\n",
    "    # remove stop words\n",
    "    if stop_words:\n",
    "        stop_words = stopwords.words('english')\n",
    "        df_cleaned['tokens'] = df_cleaned['tokens'].apply(lambda tokens: [token for token in tokens if token.lower() not in stop_words])\n",
    "    # stemming\n",
    "    if stemming:\n",
    "        ps = PorterStemmer()\n",
    "        df_cleaned['tokens'] = df_cleaned['tokens'].apply(lambda tokens: [ps.stem(token) for token in tokens])\n",
    "    # lemmatization\n",
    "    if lemmatization:\n",
    "        wordnet_lemmatizer = WordNetLemmatizer()\n",
    "        df_cleaned['tokens'] = df_cleaned['tokens'].apply(lambda tokens: [wordnet_lemmatizer.lemmatize(token) for token in tokens])\n",
    "    return df_cleaned"
   ]
  },
  {
   "cell_type": "code",
   "execution_count": 15,
   "id": "3c10182e",
   "metadata": {},
   "outputs": [
    {
     "data": {
      "text/html": [
       "<div>\n",
       "<style scoped>\n",
       "    .dataframe tbody tr th:only-of-type {\n",
       "        vertical-align: middle;\n",
       "    }\n",
       "\n",
       "    .dataframe tbody tr th {\n",
       "        vertical-align: top;\n",
       "    }\n",
       "\n",
       "    .dataframe thead th {\n",
       "        text-align: right;\n",
       "    }\n",
       "</style>\n",
       "<table border=\"1\" class=\"dataframe\">\n",
       "  <thead>\n",
       "    <tr style=\"text-align: right;\">\n",
       "      <th></th>\n",
       "      <th>tweets</th>\n",
       "      <th>tokens</th>\n",
       "    </tr>\n",
       "  </thead>\n",
       "  <tbody>\n",
       "    <tr>\n",
       "      <th>0</th>\n",
       "      <td>i dunno justin read my mention or not . only j...</td>\n",
       "      <td>[i, dunno, justin, read, my, mention, or, not,...</td>\n",
       "    </tr>\n",
       "    <tr>\n",
       "      <th>1</th>\n",
       "      <td>because your logic is so dumb , i won't even c...</td>\n",
       "      <td>[because, your, logic, is, so, dumb, ,, i, wo,...</td>\n",
       "    </tr>\n",
       "    <tr>\n",
       "      <th>2</th>\n",
       "      <td>just put casper in a box !  looved the battle ...</td>\n",
       "      <td>[just, put, casper, in, a, box, !, looved, the...</td>\n",
       "    </tr>\n",
       "    <tr>\n",
       "      <th>3</th>\n",
       "      <td>thanks sir &gt; &gt; don't trip lil mama ... just ke...</td>\n",
       "      <td>[thanks, sir, &gt;, &gt;, do, n't, trip, lil, mama, ...</td>\n",
       "    </tr>\n",
       "    <tr>\n",
       "      <th>4</th>\n",
       "      <td>visiting my brother tmr is the bestest birthda...</td>\n",
       "      <td>[visiting, my, brother, tmr, is, the, bestest,...</td>\n",
       "    </tr>\n",
       "    <tr>\n",
       "      <th>...</th>\n",
       "      <td>...</td>\n",
       "      <td>...</td>\n",
       "    </tr>\n",
       "    <tr>\n",
       "      <th>97897</th>\n",
       "      <td>hey gina what's up ?</td>\n",
       "      <td>[hey, gina, what, 's, up, ?]</td>\n",
       "    </tr>\n",
       "    <tr>\n",
       "      <th>97898</th>\n",
       "      <td>sas 9.1 . 3 and 9.2 , east 5 , s-plus 8 , stat...</td>\n",
       "      <td>[sas, 9.1, ., 3, and, 9.2, ,, east, 5, ,, s-pl...</td>\n",
       "    </tr>\n",
       "    <tr>\n",
       "      <th>97899</th>\n",
       "      <td>um gord ... i just read your profile . i'm not...</td>\n",
       "      <td>[um, gord, ..., i, just, read, your, profile, ...</td>\n",
       "    </tr>\n",
       "    <tr>\n",
       "      <th>97900</th>\n",
       "      <td>i'm so excited for tomorrow ! look out for two...</td>\n",
       "      <td>[i, 'm, so, excited, for, tomorrow, !, look, o...</td>\n",
       "    </tr>\n",
       "    <tr>\n",
       "      <th>97901</th>\n",
       "      <td>i always wondered what the job application is ...</td>\n",
       "      <td>[i, always, wondered, what, the, job, applicat...</td>\n",
       "    </tr>\n",
       "  </tbody>\n",
       "</table>\n",
       "<p>97902 rows × 2 columns</p>\n",
       "</div>"
      ],
      "text/plain": [
       "                                                  tweets  \\\n",
       "0      i dunno justin read my mention or not . only j...   \n",
       "1      because your logic is so dumb , i won't even c...   \n",
       "2      just put casper in a box !  looved the battle ...   \n",
       "3      thanks sir > > don't trip lil mama ... just ke...   \n",
       "4      visiting my brother tmr is the bestest birthda...   \n",
       "...                                                  ...   \n",
       "97897                               hey gina what's up ?   \n",
       "97898  sas 9.1 . 3 and 9.2 , east 5 , s-plus 8 , stat...   \n",
       "97899  um gord ... i just read your profile . i'm not...   \n",
       "97900  i'm so excited for tomorrow ! look out for two...   \n",
       "97901  i always wondered what the job application is ...   \n",
       "\n",
       "                                                  tokens  \n",
       "0      [i, dunno, justin, read, my, mention, or, not,...  \n",
       "1      [because, your, logic, is, so, dumb, ,, i, wo,...  \n",
       "2      [just, put, casper, in, a, box, !, looved, the...  \n",
       "3      [thanks, sir, >, >, do, n't, trip, lil, mama, ...  \n",
       "4      [visiting, my, brother, tmr, is, the, bestest,...  \n",
       "...                                                  ...  \n",
       "97897                       [hey, gina, what, 's, up, ?]  \n",
       "97898  [sas, 9.1, ., 3, and, 9.2, ,, east, 5, ,, s-pl...  \n",
       "97899  [um, gord, ..., i, just, read, your, profile, ...  \n",
       "97900  [i, 'm, so, excited, for, tomorrow, !, look, o...  \n",
       "97901  [i, always, wondered, what, the, job, applicat...  \n",
       "\n",
       "[97902 rows x 2 columns]"
      ]
     },
     "execution_count": 15,
     "metadata": {},
     "output_type": "execute_result"
    }
   ],
   "source": [
    "tokenize_and_preprocess(remove_tags(df_train_pos))"
   ]
  },
  {
   "cell_type": "code",
   "execution_count": null,
   "id": "86d5414b",
   "metadata": {},
   "outputs": [],
   "source": []
  }
 ],
 "metadata": {
  "kernelspec": {
   "display_name": "Python 3 (ipykernel)",
   "language": "python",
   "name": "python3"
  },
  "language_info": {
   "codemirror_mode": {
    "name": "ipython",
    "version": 3
   },
   "file_extension": ".py",
   "mimetype": "text/x-python",
   "name": "python",
   "nbconvert_exporter": "python",
   "pygments_lexer": "ipython3",
   "version": "3.9.12"
  }
 },
 "nbformat": 4,
 "nbformat_minor": 5
}

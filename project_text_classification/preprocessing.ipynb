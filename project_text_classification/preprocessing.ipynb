{
 "cells": [
  {
   "cell_type": "code",
   "execution_count": null,
   "id": "63601408",
   "metadata": {},
   "outputs": [],
   "source": [
    "import pandas as pd\n",
    "import numpy as np \n",
    "import re\n",
    "from nltk.tokenize import word_tokenize, WordPunctTokenizer\n",
    "from nltk.corpus import stopwords\n",
    "from nltk.stem import PorterStemmer\n",
    "from nltk.stem import WordNetLemmatizer\n",
    "from sklearn.linear_model import LogisticRegression\n",
    "from gensim.models import Word2Vec \n",
    "import multiprocessing\n",
    "\n",
    "# SVM imports\n",
    "from sklearn import svm\n",
    "from sklearn.svm import SVC\n",
    "from sklearn.preprocessing import StandardScaler\n",
    "from sklearn.pipeline import make_pipeline\n",
    "import csv\n",
    "\n",
    "# K-NearestNeighbors\n",
    "from sklearn.neighbors import KNeighborsClassifier\n",
    "\n",
    "# NN imports\n",
    "from sklearn.neural_network import MLPClassifier"
   ]
  },
  {
   "cell_type": "code",
   "execution_count": null,
   "id": "9cf2c4f5",
   "metadata": {},
   "outputs": [],
   "source": [
    "import nltk\n",
    "nltk.download('wordnet')"
   ]
  },
  {
   "cell_type": "code",
   "execution_count": null,
   "id": "d9745eaa",
   "metadata": {},
   "outputs": [],
   "source": [
    "nltk.download('omw-1.4')"
   ]
  },
  {
   "cell_type": "markdown",
   "id": "fcab2f00",
   "metadata": {},
   "source": [
    "## Load the dataset as pandas"
   ]
  },
  {
   "cell_type": "code",
   "execution_count": null,
   "id": "d4beaf82",
   "metadata": {},
   "outputs": [],
   "source": [
    "df_train_pos = pd.read_csv(\"twitter-datasets/train_pos.txt\",sep=\"\\t\",names=['tweets'])\n",
    "df_train_pos['label'] = 1\n",
    "df_train_neg = pd.read_csv(\"twitter-datasets/train_neg.txt\",sep=\"\\t\",names=['tweets'])\n",
    "df_train_neg['label'] = -1\n",
    "df_train = pd.concat([df_train_pos, df_train_neg])\n",
    "print(df_train_pos.shape)\n",
    "print(df_train_neg.shape)\n",
    "print(df_train.shape)"
   ]
  },
  {
   "cell_type": "code",
   "execution_count": null,
   "id": "011a003c",
   "metadata": {},
   "outputs": [],
   "source": [
    "df_train.head()"
   ]
  },
  {
   "cell_type": "markdown",
   "id": "4767ed0c",
   "metadata": {},
   "source": [
    "## Remove tags and urls"
   ]
  },
  {
   "cell_type": "code",
   "execution_count": null,
   "id": "93c7f14c",
   "metadata": {},
   "outputs": [],
   "source": [
    "def remove_tags(df):\n",
    "    df_cleaned = df.copy()\n",
    "    df_cleaned['tweets'] = df_cleaned['tweets'].apply(lambda tweet: re.sub(r'<.*?>', '', tweet).strip())\n",
    "    return df_cleaned"
   ]
  },
  {
   "cell_type": "code",
   "execution_count": null,
   "id": "05d333a1",
   "metadata": {},
   "outputs": [],
   "source": [
    "remove_tags(df_train)"
   ]
  },
  {
   "cell_type": "markdown",
   "id": "04f734a1",
   "metadata": {},
   "source": [
    "## Removing stop words + stemming + lemmatization"
   ]
  },
  {
   "cell_type": "code",
   "execution_count": null,
   "id": "4156b1a4",
   "metadata": {},
   "outputs": [],
   "source": [
    "def tokenize_and_preprocess(df, stop_words = False, stemming = False, lemmatization = False):\n",
    "    df_cleaned = df.copy()\n",
    "    df_cleaned['tokens'] = df_cleaned['tweets'].apply(lambda tweet: word_tokenize(tweet))\n",
    "    # remove stop words\n",
    "    if stop_words:\n",
    "        stop_words = stopwords.words('english')\n",
    "        df_cleaned['tokens'] = df_cleaned['tokens'].apply(lambda tokens: [token for token in tokens if token.lower() not in stop_words])\n",
    "    # stemming\n",
    "    if stemming:\n",
    "        ps = PorterStemmer()\n",
    "        df_cleaned['tokens'] = df_cleaned['tokens'].apply(lambda tokens: [ps.stem(token) for token in tokens])\n",
    "    # lemmatization\n",
    "    if lemmatization:\n",
    "        wordnet_lemmatizer = WordNetLemmatizer()\n",
    "        df_cleaned['tokens'] = df_cleaned['tokens'].apply(lambda tokens: [wordnet_lemmatizer.lemmatize(token) for token in tokens])\n",
    "    # remove the tweets columns\n",
    "    df_cleaned.drop(['tweets'], axis=1, inplace=True)\n",
    "    df_cleaned = df_cleaned.reindex(columns=['tokens', 'label'])\n",
    "    return df_cleaned"
   ]
  },
  {
   "cell_type": "code",
   "execution_count": null,
   "id": "b8c9058b",
   "metadata": {},
   "outputs": [],
   "source": [
    "tokens = list(tokenize_and_preprocess(remove_tags(df_train), stop_words = False, stemming = False, lemmatization = False).tokens)"
   ]
  },
  {
   "cell_type": "markdown",
   "id": "07ae79e0",
   "metadata": {},
   "source": [
    "#### Load the World2Vec model"
   ]
  },
  {
   "cell_type": "code",
   "execution_count": null,
   "id": "2d6a7622",
   "metadata": {},
   "outputs": [],
   "source": [
    "cores = multiprocessing.cpu_count() # Count the number of cores in a computer\n",
    "cores"
   ]
  },
  {
   "cell_type": "code",
   "execution_count": null,
   "id": "ce2fecc1",
   "metadata": {},
   "outputs": [],
   "source": [
    "def construct_word2vec_model(tokens, size, model_name):\n",
    "    model = Word2Vec(tokens, min_count = 5, window = 10, vector_size = size, workers=cores-1)\n",
    "    model.save('word2vec.model')\n",
    "    \n",
    "construct_word2vec_model(tokens, 100, 'word2vec.model')"
   ]
  },
  {
   "cell_type": "code",
   "execution_count": null,
   "id": "d3b6aa3c",
   "metadata": {},
   "outputs": [],
   "source": [
    "model = Word2Vec.load('word2vec.model')"
   ]
  },
  {
   "cell_type": "code",
   "execution_count": null,
   "id": "6e632742",
   "metadata": {},
   "outputs": [],
   "source": [
    "word_vectors = model.wv\n",
    "print(word_vectors)"
   ]
  },
  {
   "cell_type": "code",
   "execution_count": null,
   "id": "f850177e",
   "metadata": {},
   "outputs": [],
   "source": [
    "def construct_vector(tokens):\n",
    "    embeddings = []\n",
    "    for token in tokens:\n",
    "        if token in model.wv:\n",
    "            embeddings.append(model.wv[token])\n",
    "    if len(embeddings) == 0:\n",
    "        return np.zeros(100)\n",
    "    return np.average (embeddings,axis=0)"
   ]
  },
  {
   "cell_type": "markdown",
   "id": "1ad5c1ff",
   "metadata": {},
   "source": [
    "## Test with word2vec"
   ]
  },
  {
   "cell_type": "code",
   "execution_count": null,
   "id": "37982bb1",
   "metadata": {},
   "outputs": [],
   "source": [
    "df_cleaned_tweets = remove_tags(df_train)\n",
    "df_cleaned_tweets = tokenize_and_preprocess(df_cleaned_tweets)\n",
    "df_cleaned_tweets.head()"
   ]
  },
  {
   "cell_type": "markdown",
   "id": "1e1e77ab",
   "metadata": {},
   "source": [
    "## Constructing the vectors embeddings"
   ]
  },
  {
   "cell_type": "code",
   "execution_count": null,
   "id": "572d7478",
   "metadata": {},
   "outputs": [],
   "source": [
    "df_cleaned_tweets['vectors'] = df_cleaned_tweets['tokens'].apply(lambda token: construct_vector(token))"
   ]
  },
  {
   "cell_type": "code",
   "execution_count": null,
   "id": "751e9d55",
   "metadata": {},
   "outputs": [],
   "source": [
    "df_cleaned_tweets"
   ]
  },
  {
   "cell_type": "markdown",
   "id": "173ab876",
   "metadata": {},
   "source": [
    "## Test models"
   ]
  },
  {
   "cell_type": "code",
   "execution_count": null,
   "id": "b086d74c",
   "metadata": {},
   "outputs": [],
   "source": [
    "def train_test_model(model_to_use,x_train,y_train,x_test):\n",
    "    \n",
    "    if model_to_use == \"LogisticRegression\":\n",
    "        logisticRegr = LogisticRegression(max_iter=4000)\n",
    "        logisticRegr.fit(x_train, y_train) \n",
    "        return logisticRegr.predict(x_test)\n",
    "    \n",
    "    if model_to_use == \"SVM\":\n",
    "        # Use linear SVM for optimization (text classification is often linear)\n",
    "        lin_clf = svm.LinearSVC()\n",
    "        lin_clf.fit(x_train,y_train)\n",
    "        return lin_clf.predict(x_test)\n",
    "    \n",
    "    if model_to_use == \"NeuralNetwork\":\n",
    "        clf = MLPClassifier(solver='lbfgs', alpha=1e-5,hidden_layer_sizes=(5, 2), random_state=1,max_iter=4000)\n",
    "        clf.fit(x_train, y_train)\n",
    "        return clf.predict(x_test)"
   ]
  },
  {
   "cell_type": "code",
   "execution_count": null,
   "id": "4b0e5509",
   "metadata": {},
   "outputs": [],
   "source": [
    "x_train = np.array(df_cleaned_tweets[\"vectors\"].tolist())\n",
    "y_train =  df_train[\"label\"].tolist()"
   ]
  },
  {
   "cell_type": "code",
   "execution_count": null,
   "id": "49bc746a",
   "metadata": {},
   "outputs": [],
   "source": [
    "tweets = []\n",
    "ids = []\n",
    "with open(\"twitter-datasets/test_data.txt\") as f:\n",
    "    for line in f:\n",
    "        id, tweet = line.split(',', 1)\n",
    "\n",
    "        tweets.append(tweet)\n",
    "        ids.append(id)\n",
    "\n",
    "    df_test = pd.DataFrame(list(zip(ids, tweets)), columns=['id', 'tweets'])"
   ]
  },
  {
   "cell_type": "code",
   "execution_count": null,
   "id": "b2bc65a5",
   "metadata": {},
   "outputs": [],
   "source": [
    "df_test = tokenize_and_preprocess(remove_tags(df_test))"
   ]
  },
  {
   "cell_type": "code",
   "execution_count": null,
   "id": "de4d1707",
   "metadata": {},
   "outputs": [],
   "source": [
    "df_test.head()"
   ]
  },
  {
   "cell_type": "code",
   "execution_count": null,
   "id": "b1345c06",
   "metadata": {},
   "outputs": [],
   "source": [
    "df_test[\"vectors\"] = df_test[\"tokens\"].apply(lambda tokens: construct_vector(tokens)) "
   ]
  },
  {
   "cell_type": "code",
   "execution_count": null,
   "id": "3d1b87cf",
   "metadata": {},
   "outputs": [],
   "source": [
    "df_test"
   ]
  },
  {
   "cell_type": "code",
   "execution_count": null,
   "id": "66c60173",
   "metadata": {},
   "outputs": [],
   "source": [
    "x_test = df_test[\"vectors\"].tolist()\n",
    "x_test"
   ]
  },
  {
   "cell_type": "code",
   "execution_count": null,
   "id": "c9be9b82",
   "metadata": {},
   "outputs": [],
   "source": [
    "predictions = train_test_model(\"NeuralNetwork\",x_train,y_train,x_test)"
   ]
  },
  {
   "cell_type": "code",
   "execution_count": null,
   "id": "39ff8c0f",
   "metadata": {},
   "outputs": [],
   "source": [
    "ids=[i for i in range(1,len(predictions)+1)]\n",
    "with open(\"submission.csv\", 'w', newline='') as csvfile:\n",
    "    fieldnames = ['Id', 'Prediction']\n",
    "    writer = csv.DictWriter(csvfile, delimiter=\",\", fieldnames=fieldnames)\n",
    "    writer.writeheader()\n",
    "    for r1, r2 in zip(ids, predictions):\n",
    "        writer.writerow({'Id':int(r1),'Prediction':int(r2)})"
   ]
  },
  {
   "cell_type": "code",
   "execution_count": null,
   "id": "1bbe96ba",
   "metadata": {},
   "outputs": [],
   "source": []
  }
 ],
 "metadata": {
  "kernelspec": {
   "display_name": "Python 3 (ipykernel)",
   "language": "python",
   "name": "python3"
  },
  "language_info": {
   "codemirror_mode": {
    "name": "ipython",
    "version": 3
   },
   "file_extension": ".py",
   "mimetype": "text/x-python",
   "name": "python",
   "nbconvert_exporter": "python",
   "pygments_lexer": "ipython3",
   "version": "3.9.12"
  }
 },
 "nbformat": 4,
 "nbformat_minor": 5
}

{
 "cells": [
  {
   "cell_type": "code",
   "execution_count": null,
   "id": "6048893d",
   "metadata": {},
   "outputs": [],
   "source": [
    "import pandas as pd\n",
    "import numpy as np\n",
    "from nltk.tokenize import word_tokenize\n",
    "import io\n",
    "import re\n",
    "import csv\n",
    "from numpy import savetxt\n",
    "from tqdm import tqdm\n",
    "from sklearn.linear_model import LogisticRegression\n",
    "from nltk.tokenize import word_tokenize\n",
    "from nltk.corpus import stopwords\n",
    "from nltk.stem import PorterStemmer\n",
    "from nltk.stem import WordNetLemmatizer\n",
    "from sklearn.linear_model import LogisticRegression\n",
    "import string\n",
    "from nltk.tokenize import word_tokenize\n",
    "from nltk.corpus import stopwords\n",
    "from nltk.stem import PorterStemmer\n",
    "import simplemma\n",
    "\n",
    "# SVM imports\n",
    "from sklearn import svm\n",
    "from sklearn.svm import SVC\n",
    "from sklearn.preprocessing import StandardScaler\n",
    "from sklearn.pipeline import make_pipeline\n",
    "\n",
    "# K-NearestNeighbors\n",
    "from sklearn.neighbors import KNeighborsClassifier\n",
    "\n",
    "# NN imports\n",
    "from sklearn.neural_network import MLPClassifier"
   ]
  },
  {
   "cell_type": "markdown",
   "id": "189df5ea",
   "metadata": {},
   "source": [
    "## Load & Pre-process the training datasets"
   ]
  },
  {
   "cell_type": "code",
   "execution_count": null,
   "id": "488911f3",
   "metadata": {},
   "outputs": [],
   "source": [
    "df_train_neg = pd.read_csv(\"data/twitter-datasets/train_neg.txt\", delimiter=\"\\t\", header=None, names = ['tweets'], error_bad_lines=False)\n",
    "df_train_pos = pd.read_csv(\"data/twitter-datasets/train_pos.txt\", delimiter=\"\\t\", header=None, names = ['tweets'], error_bad_lines=False)"
   ]
  },
  {
   "cell_type": "code",
   "execution_count": null,
   "id": "ab503f28",
   "metadata": {
    "scrolled": true
   },
   "outputs": [],
   "source": [
    "df_train_neg"
   ]
  },
  {
   "cell_type": "code",
   "execution_count": null,
   "id": "38e8d210",
   "metadata": {},
   "outputs": [],
   "source": [
    "df_train_neg[\"label\"] = -1\n",
    "df_train_pos[\"label\"] = 1\n",
    "df_train = pd.concat([df_train_pos,df_train_neg])"
   ]
  },
  {
   "cell_type": "code",
   "execution_count": null,
   "id": "898e3bde",
   "metadata": {
    "scrolled": true
   },
   "outputs": [],
   "source": [
    "df_train"
   ]
  },
  {
   "cell_type": "code",
   "execution_count": null,
   "id": "cea8cacb",
   "metadata": {},
   "outputs": [],
   "source": [
    "def remove_tags(df):\n",
    "    df_cleaned = df.copy()\n",
    "    df_cleaned['tweets'] = df_cleaned['tweets'].apply(lambda tweet: re.sub(r'<.*?>', '', tweet).strip())\n",
    "    return df_cleaned"
   ]
  },
  {
   "cell_type": "code",
   "execution_count": null,
   "id": "b56fb4c6",
   "metadata": {},
   "outputs": [],
   "source": [
    "def tokenize_and_preprocess(df, stop_words = False, stemming = False, lemmatization = False):\n",
    "    df_cleaned = df.copy()\n",
    "    df_cleaned['tokens'] = df_cleaned['tweets'].apply(lambda tweet: word_tokenize(tweet))\n",
    "    # remove stop words\n",
    "    if stop_words:\n",
    "        stop_words = stopwords.words('english')\n",
    "        df_cleaned['tokens'] = df_cleaned['tokens'].apply(lambda tokens: [token for token in tokens if token.lower() not in stop_words])\n",
    "    # stemming\n",
    "    if stemming:\n",
    "        ps = PorterStemmer()\n",
    "        df_cleaned['tokens'] = df_cleaned['tokens'].apply(lambda tokens: [ps.stem(token) for token in tokens])\n",
    "    # lemmatization\n",
    "    if lemmatization:\n",
    "        wordnet_lemmatizer = WordNetLemmatizer()\n",
    "        df_cleaned['tokens'] = df_cleaned['tokens'].apply(lambda tokens: [wordnet_lemmatizer.lemmatize(token) for token in tokens])\n",
    "    # remove the tweets columns\n",
    "    df_cleaned.drop(['tweets'], axis=1, inplace=True)\n",
    "    df_cleaned = df_cleaned.reindex(columns=['tokens', 'label'])\n",
    "    return df_cleaned"
   ]
  },
  {
   "cell_type": "code",
   "execution_count": null,
   "id": "5742fcf4",
   "metadata": {},
   "outputs": [],
   "source": [
    "df_train = tokenize_and_preprocess(remove_tags(df_train),stop_words=True,stemming=True,lemmatization=True)"
   ]
  },
  {
   "cell_type": "code",
   "execution_count": null,
   "id": "ff570fc6",
   "metadata": {
    "scrolled": true
   },
   "outputs": [],
   "source": [
    "df_train"
   ]
  },
  {
   "cell_type": "markdown",
   "id": "54c7b925",
   "metadata": {},
   "source": [
    "## Compute feature vectors from Glove embeddings"
   ]
  },
  {
   "cell_type": "code",
   "execution_count": null,
   "id": "eb091303",
   "metadata": {},
   "outputs": [],
   "source": [
    "#Load pre-trained model\n",
    "embeddings_index = dict()\n",
    "\n",
    "with open(\"data/glove.6B.100d.txt\", \"r\", encoding=\"utf-8\") as f:\n",
    "    for line in f:\n",
    "        values = line.split()\n",
    "        word = values[0]\n",
    "        coefs = np.asarray(values[1:], dtype='float32')\n",
    "        embeddings_index[word] = coefs"
   ]
  },
  {
   "cell_type": "code",
   "execution_count": null,
   "id": "506e2cc5",
   "metadata": {},
   "outputs": [],
   "source": [
    "def toVector(tokens):\n",
    "    embeddings = []\n",
    "    for token in tokens:\n",
    "        embedding = embeddings_index.get(token)\n",
    "        if embedding is not None:\n",
    "            embeddings.append(embedding) \n",
    "    if len(embeddings) == 0:\n",
    "        return np.zeros(100)\n",
    "    return np.average(embeddings,axis=0) "
   ]
  },
  {
   "cell_type": "code",
   "execution_count": null,
   "id": "bbf3deb4",
   "metadata": {},
   "outputs": [],
   "source": [
    "df_train[\"vectors\"] = df_train[\"tokens\"].apply(lambda tokens: toVector(tokens))          # TAKES TIME !!                 "
   ]
  },
  {
   "cell_type": "code",
   "execution_count": null,
   "id": "12fd7bc8",
   "metadata": {
    "scrolled": true
   },
   "outputs": [],
   "source": [
    "df_train.shape"
   ]
  },
  {
   "cell_type": "code",
   "execution_count": null,
   "id": "cdbdcb2c",
   "metadata": {},
   "outputs": [],
   "source": [
    "df_train.dropna(inplace=True)"
   ]
  },
  {
   "cell_type": "code",
   "execution_count": null,
   "id": "38c6f524",
   "metadata": {
    "scrolled": true
   },
   "outputs": [],
   "source": [
    "df_train.shape"
   ]
  },
  {
   "cell_type": "code",
   "execution_count": null,
   "id": "b20b1031",
   "metadata": {
    "scrolled": false
   },
   "outputs": [],
   "source": [
    "def train_test_model(model_to_use,x_train,y_train,x_test):\n",
    "    \n",
    "    if model_to_use == \"LogisticRegression\":\n",
    "        logisticRegr = LogisticRegression(max_iter=4000)\n",
    "        logisticRegr.fit(x_train, y_train) \n",
    "        return logisticRegr.predict(x_test)\n",
    "    \n",
    "    if model_to_use == \"SVM\":\n",
    "        # Use linear SVM for optimization (text classification is often linear)\n",
    "        lin_clf = svm.LinearSVC()\n",
    "        lin_clf.fit(x_train,y_train)\n",
    "        return lin_clf.predict(x_test)\n",
    "    \n",
    "    if model_to_use == \"NeuralNetwork\":\n",
    "        clf = MLPClassifier(solver='lbfgs', alpha=1e-5,hidden_layer_sizes=(5, 2), random_state=1,max_iter=4000)\n",
    "        clf.fit(x_train, y_train)\n",
    "        return clf.predict(x_test)"
   ]
  },
  {
   "cell_type": "code",
   "execution_count": null,
   "id": "14c1b679",
   "metadata": {
    "scrolled": true
   },
   "outputs": [],
   "source": [
    "x_train = np.array(df_train[\"vectors\"].tolist())\n",
    "y_train =  df_train[\"label\"].tolist()"
   ]
  },
  {
   "cell_type": "code",
   "execution_count": null,
   "id": "11c97e05",
   "metadata": {},
   "outputs": [],
   "source": [
    "tweets = []\n",
    "ids = []\n",
    "with open(\"data/twitter-datasets/test_data.txt\") as f:\n",
    "    for line in f:\n",
    "        id, tweet = line.split(',', 1)\n",
    "\n",
    "        tweets.append(tweet)\n",
    "        ids.append(id)\n",
    "\n",
    "    df_test = pd.DataFrame(list(zip(ids, tweets)), columns=['id', 'tweets'])"
   ]
  },
  {
   "cell_type": "code",
   "execution_count": null,
   "id": "bf13d9db",
   "metadata": {},
   "outputs": [],
   "source": [
    "#df_test = pd.read_csv(\"data/twitter-datasets/test_data.txt\",delimiter=\"\\t\", header=None, names = ['tweets'])"
   ]
  },
  {
   "cell_type": "code",
   "execution_count": null,
   "id": "835a1747",
   "metadata": {},
   "outputs": [],
   "source": [
    "df_test = tokenize_and_preprocess(remove_tags(df_test))"
   ]
  },
  {
   "cell_type": "code",
   "execution_count": null,
   "id": "3d4ad4c1",
   "metadata": {
    "scrolled": true
   },
   "outputs": [],
   "source": [
    "df_test"
   ]
  },
  {
   "cell_type": "code",
   "execution_count": null,
   "id": "ca1efa18",
   "metadata": {},
   "outputs": [],
   "source": [
    "df_test[\"vectors\"] = df_test[\"tokens\"].apply(lambda tokens: toVector(tokens)) "
   ]
  },
  {
   "cell_type": "code",
   "execution_count": null,
   "id": "e7507f21",
   "metadata": {
    "scrolled": true
   },
   "outputs": [],
   "source": [
    "df_test"
   ]
  },
  {
   "cell_type": "code",
   "execution_count": null,
   "id": "e0d1c0d4",
   "metadata": {},
   "outputs": [],
   "source": [
    "x_test = df_test[\"vectors\"].tolist()\n",
    "x_test"
   ]
  },
  {
   "cell_type": "code",
   "execution_count": null,
   "id": "d5556eb8",
   "metadata": {},
   "outputs": [],
   "source": [
    "#predictions = train_test_model(\"LogisticRegression\",x_train,y_train,x_test)"
   ]
  },
  {
   "cell_type": "code",
   "execution_count": null,
   "id": "10be9772",
   "metadata": {
    "scrolled": true
   },
   "outputs": [],
   "source": [
    "predictions = train_test_model(\"NeuralNetwork\",x_train,y_train,x_test)"
   ]
  },
  {
   "cell_type": "code",
   "execution_count": null,
   "id": "46443fb8",
   "metadata": {},
   "outputs": [],
   "source": [
    "#predictions = train_test_model(\"SVM\",x_train,y_train,x_test)"
   ]
  },
  {
   "cell_type": "code",
   "execution_count": null,
   "id": "92fd33b8",
   "metadata": {},
   "outputs": [],
   "source": [
    "ids=[i for i in range(1,len(predictions)+1)]\n",
    "with open(\"data/submission.csv\", 'w', newline='') as csvfile:\n",
    "    fieldnames = ['Id', 'Prediction']\n",
    "    writer = csv.DictWriter(csvfile, delimiter=\",\", fieldnames=fieldnames)\n",
    "    writer.writeheader()\n",
    "    for r1, r2 in zip(ids, predictions):\n",
    "        writer.writerow({'Id':int(r1),'Prediction':int(r2)})"
   ]
  }
 ],
 "metadata": {
  "kernelspec": {
   "display_name": "Python 3 (ipykernel)",
   "language": "python",
   "name": "python3"
  },
  "language_info": {
   "codemirror_mode": {
    "name": "ipython",
    "version": 3
   },
   "file_extension": ".py",
   "mimetype": "text/x-python",
   "name": "python",
   "nbconvert_exporter": "python",
   "pygments_lexer": "ipython3",
   "version": "3.9.13"
  }
 },
 "nbformat": 4,
 "nbformat_minor": 5
}

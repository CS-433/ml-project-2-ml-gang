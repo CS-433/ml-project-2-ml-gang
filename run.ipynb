{
 "cells": [
  {
   "cell_type": "code",
   "execution_count": 13,
   "id": "6048893d",
   "metadata": {},
   "outputs": [],
   "source": [
    "from embeddings import *\n",
    "from preprocessing import *\n",
    "from models import *\n",
    "from fasttext import *"
   ]
  },
  {
   "cell_type": "markdown",
   "id": "189df5ea",
   "metadata": {},
   "source": [
    "## Load & Pre-process the training datasets"
   ]
  },
  {
   "cell_type": "code",
   "execution_count": 14,
   "id": "20eb3542",
   "metadata": {},
   "outputs": [],
   "source": [
    "df_train, df_test = load_datasets()"
   ]
  },
  {
   "cell_type": "code",
   "execution_count": 15,
   "id": "18482e9f",
   "metadata": {},
   "outputs": [],
   "source": [
    "df_train_cleaned = tokenize_and_preprocess(remove_tags(df_train))\n",
    "df_test_cleaned = tokenize_and_preprocess(remove_tags(df_test))"
   ]
  },
  {
   "cell_type": "markdown",
   "id": "54c7b925",
   "metadata": {},
   "source": [
    "## Compute feature vectors from Glove embeddings"
   ]
  },
  {
   "cell_type": "code",
   "execution_count": 16,
   "id": "f0cb04a4",
   "metadata": {},
   "outputs": [],
   "source": [
    "df_train_vecs = tweet2vec(df_train_cleaned, \"glove\")\n",
    "df_test_vecs = tweet2vec(df_test_cleaned, \"glove\")"
   ]
  },
  {
   "cell_type": "code",
   "execution_count": 17,
   "id": "899fdd4c",
   "metadata": {},
   "outputs": [],
   "source": [
    "x_train = df_train_vecs[\"vectors\"].tolist()\n",
    "y_train =  df_train_ve cs[\"label\"].tolist()\n",
    "x_test = df_test_vecs[\"vectors\"].tolist()"
   ]
  },
  {
   "cell_type": "markdown",
   "id": "10fe77d7",
   "metadata": {},
   "source": [
    "## Predict from various models"
   ]
  },
  {
   "cell_type": "code",
   "execution_count": 20,
   "id": "e0d1c0d4",
   "metadata": {},
   "outputs": [],
   "source": [
    "preds = train_test_model(\"NeuralNetwork\", x_train,y_train,x_test)\n",
    "write_submission(preds,\"submission_nn\")"
   ]
  },
  {
   "cell_type": "code",
   "execution_count": 22,
   "id": "d5556eb8",
   "metadata": {},
   "outputs": [
    {
     "name": "stderr",
     "output_type": "stream",
     "text": [
      "C:\\Users\\Victor\\anaconda3\\lib\\site-packages\\sklearn\\svm\\_base.py:1206: ConvergenceWarning: Liblinear failed to converge, increase the number of iterations.\n",
      "  warnings.warn(\n"
     ]
    }
   ],
   "source": [
    "preds = train_test_model(\"SVM\", x_train,y_train,x_test)\n",
    "write_submission(preds,\"submission_svm\")"
   ]
  },
  {
   "cell_type": "code",
   "execution_count": null,
   "id": "10be9772",
   "metadata": {
    "scrolled": true
   },
   "outputs": [],
   "source": [
    "preds = train_test_model(\"LogisticRegression\", x_train,y_train,x_test)\n",
    "write_submission(preds,\"submission_logreg\")"
   ]
  },
  {
   "cell_type": "markdown",
   "id": "f3758991",
   "metadata": {},
   "source": [
    "## Fast-text"
   ]
  },
  {
   "cell_type": "code",
   "execution_count": null,
   "id": "643c7ade",
   "metadata": {},
   "outputs": [],
   "source": [
    "df_train_fasttext = fasttext_label(df_train_cleaned)"
   ]
  },
  {
   "cell_type": "markdown",
   "id": "a8679671",
   "metadata": {},
   "source": [
    "## Word2Vec"
   ]
  },
  {
   "cell_type": "code",
   "execution_count": null,
   "id": "4ad6cf94",
   "metadata": {},
   "outputs": [],
   "source": [
    "df_train_vecs = tweet2vec(df_train_cleaned, \"word2vec\")\n",
    "df_test_vecs = tweet2vec(df_test_cleaned, \"word2vec\")"
   ]
  },
  {
   "cell_type": "code",
   "execution_count": null,
   "id": "503eed50",
   "metadata": {},
   "outputs": [],
   "source": [
    "x_train = df_train_vecs[\"vectors\"].tolist()\n",
    "y_train =  df_train_vecs[\"label\"].tolist()\n",
    "x_test = df_test_vecs[\"vectors\"].tolist()"
   ]
  },
  {
   "cell_type": "code",
   "execution_count": null,
   "id": "192975df",
   "metadata": {},
   "outputs": [],
   "source": [
    "preds = train_test_model(\"NeuralNetwork\", x_train,y_train,x_test)\n",
    "write_submission(preds,\"submission_nn\")"
   ]
  },
  {
   "cell_type": "code",
   "execution_count": null,
   "id": "f4e728b2",
   "metadata": {},
   "outputs": [],
   "source": [
    "preds = train_test_model(\"SVM\", x_train,y_train,x_test)\n",
    "write_submission(preds,\"submission_svm\")"
   ]
  },
  {
   "cell_type": "code",
   "execution_count": null,
   "id": "3073611a",
   "metadata": {},
   "outputs": [],
   "source": [
    "preds = train_test_model(\"LogisticRegression\", x_train,y_train,x_test)\n",
    "write_submission(preds,\"submission_logreg\")"
   ]
  }
 ],
 "metadata": {
  "kernelspec": {
   "display_name": "Python 3 (ipykernel)",
   "language": "python",
   "name": "python3"
  },
  "language_info": {
   "codemirror_mode": {
    "name": "ipython",
    "version": 3
   },
   "file_extension": ".py",
   "mimetype": "text/x-python",
   "name": "python",
   "nbconvert_exporter": "python",
   "pygments_lexer": "ipython3",
   "version": "3.9.13"
  }
 },
 "nbformat": 4,
 "nbformat_minor": 5
}
